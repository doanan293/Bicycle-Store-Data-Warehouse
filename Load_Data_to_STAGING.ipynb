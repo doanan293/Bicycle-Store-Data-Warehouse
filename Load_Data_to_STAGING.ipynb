{
 "cells": [
  {
   "cell_type": "code",
   "execution_count": 1,
   "id": "ef97d20a8130ca38",
   "metadata": {
    "ExecuteTime": {
     "end_time": "2024-05-21T12:25:20.437870Z",
     "start_time": "2024-05-21T12:25:14.565922Z"
    },
    "collapsed": false
   },
   "outputs": [
    {
     "name": "stdout",
     "output_type": "stream",
     "text": [
      "Connected\n"
     ]
    }
   ],
   "source": [
    "import time\n",
    "from datetime import datetime\n",
    "import pandas as pd          # pip install pandas\n",
    "import pypyodbc as odbc      # pip install pypyodbc\n",
    "from google.cloud import bigquery  # pip install google-cloud-bigquery\n",
    "import io                    # Import the io module\n",
    "import os\n",
    "from google.oauth2 import service_account\n",
    "from sqlserver import SQLServer\n",
    "\n",
    "### Connect to SQL Server database\n",
    "SERVER_NAME = r'DESKTOP-A1B4UHT\\SQLEXPRESS'\n",
    "DATABASE_NAME = 'AdventureWorks2022'\n",
    "sql_server_instance = SQLServer(SERVER_NAME, DATABASE_NAME)\n",
    "sql_server_instance.connect_to_sql_server()\n",
    "\n",
    "### Set up Google Cloud credentials\n",
    "os.environ[\"GOOGLE_APPLICATION_CREDENTIALS\"] = r\"C:\\Users\\Admin\\Downloads\\DWH\\seventh-jet-424513-h5-a426c383f9d7.json\""
   ]
  },
  {
   "cell_type": "code",
   "execution_count": 2,
   "id": "973d05c7",
   "metadata": {},
   "outputs": [
    {
     "name": "stdout",
     "output_type": "stream",
     "text": [
      "Data loaded successfully to BigQuery table seventh-jet-424513-h5.STAGING.Customer\n",
      "Data loaded successfully to BigQuery table seventh-jet-424513-h5.STAGING.CurrencyRate\n",
      "Data loaded successfully to BigQuery table seventh-jet-424513-h5.STAGING.Currency\n",
      "Data loaded successfully to BigQuery table seventh-jet-424513-h5.STAGING.SalesOrderHeader\n",
      "Data loaded successfully to BigQuery table seventh-jet-424513-h5.STAGING.SalesOrderDetail\n",
      "Data loaded successfully to BigQuery table seventh-jet-424513-h5.STAGING.Product\n",
      "Data loaded successfully to BigQuery table seventh-jet-424513-h5.STAGING.ProductSubcategory\n",
      "Data loaded successfully to BigQuery table seventh-jet-424513-h5.STAGING.ProductCategory\n",
      "Data loaded successfully to BigQuery table seventh-jet-424513-h5.STAGING.StateProvince\n",
      "Data loaded successfully to BigQuery table seventh-jet-424513-h5.STAGING.CountryRegion\n",
      "Data loaded successfully to BigQuery table seventh-jet-424513-h5.STAGING.SalesOrderHeaderSalesReason\n",
      "Data loaded successfully to BigQuery table seventh-jet-424513-h5.STAGING.SalesReason\n"
     ]
    }
   ],
   "source": [
    "def load_data_to_bigquery(sql_query, table_id):\n",
    "    # Step 2. Query the records from SQL Server\n",
    "    columns, records = sql_server_instance.query(sql_query)\n",
    "    df = pd.DataFrame(records, columns=columns)\n",
    "    df[\"Created_dt\"] = datetime.now()\n",
    "\n",
    "    # Step 3. Define table schema\n",
    "    client = bigquery.Client()\n",
    "\n",
    "    # Configure job\n",
    "    job_config = bigquery.LoadJobConfig(\n",
    "        autodetect=True,\n",
    "        write_disposition='WRITE_TRUNCATE'\n",
    "    )\n",
    "\n",
    "    # Convert the DataFrame to a CSV string\n",
    "    csv_data = df.to_csv(index=False)\n",
    "\n",
    "    # Load data to BigQuery from CSV string\n",
    "    job = client.load_table_from_file(\n",
    "        file_obj=io.StringIO(csv_data),\n",
    "        destination=table_id,\n",
    "        job_config=job_config\n",
    "    )\n",
    "\n",
    "    # Wait for the load job to complete\n",
    "    job.result()\n",
    "    print(f\"Data loaded successfully to BigQuery table {table_id}\")\n",
    "\n",
    "# Define the SQL queries and corresponding BigQuery table IDs\n",
    "tasks = [\n",
    "    {\"sql_query\": \"SELECT * FROM Sales.Customer\", \"table_id\": \"seventh-jet-424513-h5.STAGING.Customer\"},\n",
    "\n",
    "    {\"sql_query\": \"SELECT * FROM Sales.CurrencyRate\", \"table_id\": \"seventh-jet-424513-h5.STAGING.CurrencyRate\"},\n",
    "\n",
    "    {\"sql_query\": \"SELECT * FROM Sales.Currency\", \"table_id\": \"seventh-jet-424513-h5.STAGING.Currency\"},\n",
    "\n",
    "    {\"sql_query\": \"SELECT * FROM Sales.SalesOrderHeader\", \"table_id\": \"seventh-jet-424513-h5.STAGING.SalesOrderHeader\"},\n",
    "\n",
    "    {\"sql_query\": \"SELECT * FROM Sales.SalesOrderDetail\", \"table_id\": \"seventh-jet-424513-h5.STAGING.SalesOrderDetail\"},\n",
    "\n",
    "    {\"sql_query\": \"SELECT * FROM Production.Product\", \"table_id\": \"seventh-jet-424513-h5.STAGING.Product\"},\n",
    "\n",
    "    {\"sql_query\": \"SELECT * FROM Production.ProductSubcategory\", \"table_id\": \"seventh-jet-424513-h5.STAGING.ProductSubcategory\"},\n",
    "\n",
    "    {\"sql_query\": \"SELECT * FROM Production.ProductCategory\", \"table_id\": \"seventh-jet-424513-h5.STAGING.ProductCategory\"},\n",
    "\n",
    "    {\"sql_query\": \"SELECT * FROM Person.StateProvince\", \"table_id\": \"seventh-jet-424513-h5.STAGING.StateProvince\"},\n",
    "\n",
    "    {\"sql_query\": \"SELECT * FROM Person.CountryRegion\", \"table_id\": \"seventh-jet-424513-h5.STAGING.CountryRegion\"},\n",
    "\n",
    "    {\"sql_query\": \"SELECT * FROM Sales.SalesOrderHeaderSalesReason\", \"table_id\": \"seventh-jet-424513-h5.STAGING.SalesOrderHeaderSalesReason\"},\n",
    "\n",
    "    {\"sql_query\": \"SELECT * FROM Sales.SalesReason\", \"table_id\": \"seventh-jet-424513-h5.STAGING.SalesReason\"},\n",
    "]\n",
    "\n",
    "# Run the load process for each task\n",
    "for task in tasks:\n",
    "    load_data_to_bigquery(task[\"sql_query\"], task[\"table_id\"])"
   ]
  },
  {
   "cell_type": "code",
   "execution_count": 3,
   "id": "25f5306e",
   "metadata": {},
   "outputs": [
    {
     "name": "stdout",
     "output_type": "stream",
     "text": [
      "Data loaded successfully to BigQuery\n"
     ]
    }
   ],
   "source": [
    "\n",
    "# Step 2. Query the records from SQL Server\n",
    "sql_statement = \"\"\"\n",
    "SELECT \n",
    "AddressID,\n",
    "AddressLine1,\n",
    "AddressLine2,\n",
    "City,\n",
    "StateProvinceID\n",
    "\n",
    "FROM Person.Address \n",
    "\"\"\"\n",
    "\n",
    "columns, records = sql_server_instance.query(sql_statement)\n",
    "Address = pd.DataFrame(records, columns=columns)\n",
    "Address[\"Created_dt\"] = datetime.now()\n",
    "Address[\"addressline1\"] = Address[\"addressline1\"].astype(str)\n",
    "Address[\"addressline2\"] = Address[\"addressline1\"].astype(str)\n",
    "\n",
    "# Step 3. Define table schema\n",
    "client = bigquery.Client()\n",
    "\n",
    "# If you don't want to specify column schema, set autodetect to True\n",
    "job_config = bigquery.LoadJobConfig(\n",
    "    autodetect=True,\n",
    "    #schema=[\n",
    "        #bigquery.SchemaField(\"orderdate\", 'TIMESTAMP'),\n",
    "        #bigquery.SchemaField(\"duedate\", 'TIMESTAMP'),\n",
    "        #bigquery.SchemaField(\"shipdate\", 'TIMESTAMP'),\n",
    "    #],\n",
    "    # WRITE_APPEND, WRITE_EMPTY\n",
    "    write_disposition='WRITE_TRUNCATE'\n",
    ")\n",
    "\n",
    "# Step 4. Load data to BigQuery\n",
    "table_id = 'seventh-jet-424513-h5.STAGING.Address'  # Replace with your project and dataset ID\n",
    "\n",
    "# Convert the DataFrame to a CSV string\n",
    "csv_data = Address.to_csv(index=False)\n",
    "\n",
    "# Load data to BigQuery from CSV string\n",
    "job = client.load_table_from_file(\n",
    "    file_obj=io.StringIO(csv_data),\n",
    "    destination=table_id,\n",
    "    job_config=job_config\n",
    ")\n",
    "\n",
    "# Wait for the load job to complete\n",
    "job.result()\n",
    "\n",
    "print(\"Data loaded successfully to BigQuery\")\n"
   ]
  }
 ],
 "metadata": {
  "kernelspec": {
   "display_name": "Python 3",
   "language": "python",
   "name": "python3"
  },
  "language_info": {
   "codemirror_mode": {
    "name": "ipython",
    "version": 3
   },
   "file_extension": ".py",
   "mimetype": "text/x-python",
   "name": "python",
   "nbconvert_exporter": "python",
   "pygments_lexer": "ipython3",
   "version": "3.11.5"
  }
 },
 "nbformat": 4,
 "nbformat_minor": 5
}
